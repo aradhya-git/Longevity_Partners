{
  "cells": [
    {
      "cell_type": "code",
      "execution_count": null,
      "id": "23b8a401-2ef5-48b8-b36c-ba70d2ee804a",
      "metadata": {
        "id": "23b8a401-2ef5-48b8-b36c-ba70d2ee804a"
      },
      "outputs": [],
      "source": [
        "import pandas as pd\n",
        "import json\n",
        "import requests\n",
        "import time\n",
        "import os.path\n",
        "import re"
      ]
    },
    {
      "cell_type": "code",
      "execution_count": null,
      "id": "758343d3-5121-4126-8edc-bca53b3c3c1d",
      "metadata": {
        "id": "758343d3-5121-4126-8edc-bca53b3c3c1d"
      },
      "outputs": [],
      "source": [
        "API_KEY = 'byzMhmuNvsnu0eCJFjlK7VAefiG4oONB'\n",
        "START = 2012\n",
        "END = 2023 # add one year"
      ]
    },
    {
      "cell_type": "code",
      "execution_count": null,
      "id": "6fdef8fd-f68f-4a76-8a6c-e11ec1b78eb1",
      "metadata": {
        "id": "6fdef8fd-f68f-4a76-8a6c-e11ec1b78eb1"
      },
      "outputs": [],
      "source": [
        "def load_by_week(week):\n",
        "    print('Calling for week ' + week)\n",
        "    rj = None\n",
        "    # /content/sample_data\n",
        "    path = '/content/data_'+week+'.json'\n",
        "    if os.path.isfile(path):\n",
        "        print('file is found')\n",
        "        rj = json.loads(open(path, 'r').read())\n",
        "    else:\n",
        "        resp  = requests.get('https://api.nytimes.com/svc/books/v3/lists/'+week+'/combined-print-and-e-book-nonfiction.json?api-key='+API_KEY)\n",
        "        rj = resp.json()\n",
        "        with open(path, 'w') as f:\n",
        "            json.dump(rj, f)\n",
        "        time.sleep(15)\n",
        "        print('file not found')\n",
        "    df = pd.DataFrame(rj['results']['books'])\n",
        "    df['published_date'] = rj['results']['published_date']\n",
        "    return df\n",
        "\n",
        "\n",
        "def load_by_year(year):\n",
        "    start = str(year) + '0101'    \n",
        "    end = str(year) + '1231'\n",
        "    date = pd.date_range(start,end, freq='W').strftime('%Y-%m-%d')\n",
        "\n",
        "    df = pd.DataFrame()\n",
        "    weekly = {}\n",
        "    for dt in date:\n",
        "        try:\n",
        "            weekly_df = load_by_week(dt)\n",
        "            weekly[dt] = True\n",
        "            df = df.append(weekly_df)\n",
        "        except Exception:\n",
        "            weekly[dt] = False\n",
        "            raise Exception(\"\")\n",
        "\n",
        "    return (df, weekly)\n"
      ]
    },
    {
      "cell_type": "code",
      "execution_count": null,
      "id": "0b888843-8c10-4d57-967f-9740c68811d1",
      "metadata": {
        "id": "0b888843-8c10-4d57-967f-9740c68811d1"
      },
      "outputs": [],
      "source": [
        "def author_split(authors_str ):\n",
        "    authors = re.split(' with | and ', authors_str)\n",
        "    author_names = []\n",
        "    for author in authors:\n",
        "        name = author.split(\" \",1)\n",
        "        name.append('')\n",
        "        author_names.append({'first_name': name[0], 'last_name': name[1], 'name': author})\n",
        "    return author_names"
      ]
    },
    {
      "cell_type": "code",
      "execution_count": null,
      "id": "51539df0-7736-4375-89c8-be31ee9f3be7",
      "metadata": {
        "colab": {
          "base_uri": "https://localhost:8080/"
        },
        "id": "51539df0-7736-4375-89c8-be31ee9f3be7",
        "outputId": "ee059175-4f44-4a68-c462-f848edb86b8d"
      },
      "outputs": [
        {
          "output_type": "stream",
          "name": "stdout",
          "text": [
            "Calling for week 2012-01-01\n",
            "file not found\n",
            "Calling for week 2012-01-08\n"
          ]
        },
        {
          "output_type": "stream",
          "name": "stderr",
          "text": [
            "<ipython-input-32-a66ec229704a>:32: FutureWarning: The frame.append method is deprecated and will be removed from pandas in a future version. Use pandas.concat instead.\n",
            "  df = df.append(weekly_df)\n"
          ]
        },
        {
          "output_type": "stream",
          "name": "stdout",
          "text": [
            "file not found\n",
            "Calling for week 2012-01-15\n"
          ]
        },
        {
          "output_type": "stream",
          "name": "stderr",
          "text": [
            "<ipython-input-32-a66ec229704a>:32: FutureWarning: The frame.append method is deprecated and will be removed from pandas in a future version. Use pandas.concat instead.\n",
            "  df = df.append(weekly_df)\n"
          ]
        },
        {
          "output_type": "stream",
          "name": "stdout",
          "text": [
            "file not found\n",
            "Calling for week 2012-01-22\n"
          ]
        },
        {
          "output_type": "stream",
          "name": "stderr",
          "text": [
            "<ipython-input-32-a66ec229704a>:32: FutureWarning: The frame.append method is deprecated and will be removed from pandas in a future version. Use pandas.concat instead.\n",
            "  df = df.append(weekly_df)\n"
          ]
        },
        {
          "output_type": "stream",
          "name": "stdout",
          "text": [
            "file not found\n",
            "Calling for week 2012-01-29\n"
          ]
        },
        {
          "output_type": "stream",
          "name": "stderr",
          "text": [
            "<ipython-input-32-a66ec229704a>:32: FutureWarning: The frame.append method is deprecated and will be removed from pandas in a future version. Use pandas.concat instead.\n",
            "  df = df.append(weekly_df)\n"
          ]
        },
        {
          "output_type": "stream",
          "name": "stdout",
          "text": [
            "file not found\n",
            "Calling for week 2012-02-05\n"
          ]
        },
        {
          "output_type": "stream",
          "name": "stderr",
          "text": [
            "<ipython-input-32-a66ec229704a>:32: FutureWarning: The frame.append method is deprecated and will be removed from pandas in a future version. Use pandas.concat instead.\n",
            "  df = df.append(weekly_df)\n"
          ]
        },
        {
          "output_type": "stream",
          "name": "stdout",
          "text": [
            "file not found\n",
            "Calling for week 2012-02-12\n"
          ]
        },
        {
          "output_type": "stream",
          "name": "stderr",
          "text": [
            "<ipython-input-32-a66ec229704a>:32: FutureWarning: The frame.append method is deprecated and will be removed from pandas in a future version. Use pandas.concat instead.\n",
            "  df = df.append(weekly_df)\n"
          ]
        },
        {
          "output_type": "stream",
          "name": "stdout",
          "text": [
            "file not found\n",
            "Calling for week 2012-02-19\n"
          ]
        },
        {
          "output_type": "stream",
          "name": "stderr",
          "text": [
            "<ipython-input-32-a66ec229704a>:32: FutureWarning: The frame.append method is deprecated and will be removed from pandas in a future version. Use pandas.concat instead.\n",
            "  df = df.append(weekly_df)\n"
          ]
        },
        {
          "output_type": "stream",
          "name": "stdout",
          "text": [
            "file not found\n",
            "Calling for week 2012-02-26\n"
          ]
        },
        {
          "output_type": "stream",
          "name": "stderr",
          "text": [
            "<ipython-input-32-a66ec229704a>:32: FutureWarning: The frame.append method is deprecated and will be removed from pandas in a future version. Use pandas.concat instead.\n",
            "  df = df.append(weekly_df)\n"
          ]
        },
        {
          "output_type": "stream",
          "name": "stdout",
          "text": [
            "file not found\n",
            "Calling for week 2012-03-04\n"
          ]
        },
        {
          "output_type": "stream",
          "name": "stderr",
          "text": [
            "<ipython-input-32-a66ec229704a>:32: FutureWarning: The frame.append method is deprecated and will be removed from pandas in a future version. Use pandas.concat instead.\n",
            "  df = df.append(weekly_df)\n"
          ]
        },
        {
          "output_type": "stream",
          "name": "stdout",
          "text": [
            "file not found\n",
            "Calling for week 2012-03-11\n"
          ]
        },
        {
          "output_type": "stream",
          "name": "stderr",
          "text": [
            "<ipython-input-32-a66ec229704a>:32: FutureWarning: The frame.append method is deprecated and will be removed from pandas in a future version. Use pandas.concat instead.\n",
            "  df = df.append(weekly_df)\n"
          ]
        },
        {
          "output_type": "stream",
          "name": "stdout",
          "text": [
            "file not found\n",
            "Calling for week 2012-03-18\n"
          ]
        },
        {
          "output_type": "stream",
          "name": "stderr",
          "text": [
            "<ipython-input-32-a66ec229704a>:32: FutureWarning: The frame.append method is deprecated and will be removed from pandas in a future version. Use pandas.concat instead.\n",
            "  df = df.append(weekly_df)\n"
          ]
        },
        {
          "output_type": "stream",
          "name": "stdout",
          "text": [
            "file not found\n",
            "Calling for week 2012-03-25\n"
          ]
        },
        {
          "output_type": "stream",
          "name": "stderr",
          "text": [
            "<ipython-input-32-a66ec229704a>:32: FutureWarning: The frame.append method is deprecated and will be removed from pandas in a future version. Use pandas.concat instead.\n",
            "  df = df.append(weekly_df)\n"
          ]
        },
        {
          "output_type": "stream",
          "name": "stdout",
          "text": [
            "file not found\n",
            "Calling for week 2012-04-01\n"
          ]
        },
        {
          "output_type": "stream",
          "name": "stderr",
          "text": [
            "<ipython-input-32-a66ec229704a>:32: FutureWarning: The frame.append method is deprecated and will be removed from pandas in a future version. Use pandas.concat instead.\n",
            "  df = df.append(weekly_df)\n"
          ]
        },
        {
          "output_type": "stream",
          "name": "stdout",
          "text": [
            "file not found\n",
            "Calling for week 2012-04-08\n"
          ]
        },
        {
          "output_type": "stream",
          "name": "stderr",
          "text": [
            "<ipython-input-32-a66ec229704a>:32: FutureWarning: The frame.append method is deprecated and will be removed from pandas in a future version. Use pandas.concat instead.\n",
            "  df = df.append(weekly_df)\n"
          ]
        },
        {
          "output_type": "stream",
          "name": "stdout",
          "text": [
            "file not found\n",
            "Calling for week 2012-04-15\n"
          ]
        },
        {
          "output_type": "stream",
          "name": "stderr",
          "text": [
            "<ipython-input-32-a66ec229704a>:32: FutureWarning: The frame.append method is deprecated and will be removed from pandas in a future version. Use pandas.concat instead.\n",
            "  df = df.append(weekly_df)\n"
          ]
        },
        {
          "output_type": "stream",
          "name": "stdout",
          "text": [
            "file not found\n",
            "Calling for week 2012-04-22\n"
          ]
        },
        {
          "output_type": "stream",
          "name": "stderr",
          "text": [
            "<ipython-input-32-a66ec229704a>:32: FutureWarning: The frame.append method is deprecated and will be removed from pandas in a future version. Use pandas.concat instead.\n",
            "  df = df.append(weekly_df)\n"
          ]
        },
        {
          "output_type": "stream",
          "name": "stdout",
          "text": [
            "file not found\n",
            "Calling for week 2012-04-29\n"
          ]
        },
        {
          "output_type": "stream",
          "name": "stderr",
          "text": [
            "<ipython-input-32-a66ec229704a>:32: FutureWarning: The frame.append method is deprecated and will be removed from pandas in a future version. Use pandas.concat instead.\n",
            "  df = df.append(weekly_df)\n"
          ]
        },
        {
          "output_type": "stream",
          "name": "stdout",
          "text": [
            "file not found\n",
            "Calling for week 2012-05-06\n"
          ]
        },
        {
          "output_type": "stream",
          "name": "stderr",
          "text": [
            "<ipython-input-32-a66ec229704a>:32: FutureWarning: The frame.append method is deprecated and will be removed from pandas in a future version. Use pandas.concat instead.\n",
            "  df = df.append(weekly_df)\n"
          ]
        },
        {
          "output_type": "stream",
          "name": "stdout",
          "text": [
            "file not found\n",
            "Calling for week 2012-05-13\n"
          ]
        },
        {
          "output_type": "stream",
          "name": "stderr",
          "text": [
            "<ipython-input-32-a66ec229704a>:32: FutureWarning: The frame.append method is deprecated and will be removed from pandas in a future version. Use pandas.concat instead.\n",
            "  df = df.append(weekly_df)\n"
          ]
        },
        {
          "output_type": "stream",
          "name": "stdout",
          "text": [
            "file not found\n",
            "Calling for week 2012-05-20\n"
          ]
        },
        {
          "output_type": "stream",
          "name": "stderr",
          "text": [
            "<ipython-input-32-a66ec229704a>:32: FutureWarning: The frame.append method is deprecated and will be removed from pandas in a future version. Use pandas.concat instead.\n",
            "  df = df.append(weekly_df)\n"
          ]
        },
        {
          "output_type": "stream",
          "name": "stdout",
          "text": [
            "file not found\n",
            "Calling for week 2012-05-27\n"
          ]
        },
        {
          "output_type": "stream",
          "name": "stderr",
          "text": [
            "<ipython-input-32-a66ec229704a>:32: FutureWarning: The frame.append method is deprecated and will be removed from pandas in a future version. Use pandas.concat instead.\n",
            "  df = df.append(weekly_df)\n"
          ]
        },
        {
          "output_type": "stream",
          "name": "stdout",
          "text": [
            "file not found\n",
            "Calling for week 2012-06-03\n"
          ]
        },
        {
          "output_type": "stream",
          "name": "stderr",
          "text": [
            "<ipython-input-32-a66ec229704a>:32: FutureWarning: The frame.append method is deprecated and will be removed from pandas in a future version. Use pandas.concat instead.\n",
            "  df = df.append(weekly_df)\n"
          ]
        },
        {
          "output_type": "stream",
          "name": "stdout",
          "text": [
            "file not found\n",
            "Calling for week 2012-06-10\n"
          ]
        },
        {
          "output_type": "stream",
          "name": "stderr",
          "text": [
            "<ipython-input-32-a66ec229704a>:32: FutureWarning: The frame.append method is deprecated and will be removed from pandas in a future version. Use pandas.concat instead.\n",
            "  df = df.append(weekly_df)\n"
          ]
        },
        {
          "output_type": "stream",
          "name": "stdout",
          "text": [
            "file not found\n",
            "Calling for week 2012-06-17\n"
          ]
        },
        {
          "output_type": "stream",
          "name": "stderr",
          "text": [
            "<ipython-input-32-a66ec229704a>:32: FutureWarning: The frame.append method is deprecated and will be removed from pandas in a future version. Use pandas.concat instead.\n",
            "  df = df.append(weekly_df)\n"
          ]
        },
        {
          "output_type": "stream",
          "name": "stdout",
          "text": [
            "file not found\n",
            "Calling for week 2012-06-24\n"
          ]
        },
        {
          "output_type": "stream",
          "name": "stderr",
          "text": [
            "<ipython-input-32-a66ec229704a>:32: FutureWarning: The frame.append method is deprecated and will be removed from pandas in a future version. Use pandas.concat instead.\n",
            "  df = df.append(weekly_df)\n"
          ]
        },
        {
          "output_type": "stream",
          "name": "stdout",
          "text": [
            "file not found\n",
            "Calling for week 2012-07-01\n"
          ]
        },
        {
          "output_type": "stream",
          "name": "stderr",
          "text": [
            "<ipython-input-32-a66ec229704a>:32: FutureWarning: The frame.append method is deprecated and will be removed from pandas in a future version. Use pandas.concat instead.\n",
            "  df = df.append(weekly_df)\n"
          ]
        },
        {
          "output_type": "stream",
          "name": "stdout",
          "text": [
            "file not found\n",
            "Calling for week 2012-07-08\n"
          ]
        },
        {
          "output_type": "stream",
          "name": "stderr",
          "text": [
            "<ipython-input-32-a66ec229704a>:32: FutureWarning: The frame.append method is deprecated and will be removed from pandas in a future version. Use pandas.concat instead.\n",
            "  df = df.append(weekly_df)\n"
          ]
        },
        {
          "output_type": "stream",
          "name": "stdout",
          "text": [
            "file not found\n",
            "Calling for week 2012-07-15\n"
          ]
        },
        {
          "output_type": "stream",
          "name": "stderr",
          "text": [
            "<ipython-input-32-a66ec229704a>:32: FutureWarning: The frame.append method is deprecated and will be removed from pandas in a future version. Use pandas.concat instead.\n",
            "  df = df.append(weekly_df)\n"
          ]
        },
        {
          "output_type": "stream",
          "name": "stdout",
          "text": [
            "file not found\n",
            "Calling for week 2012-07-22\n"
          ]
        },
        {
          "output_type": "stream",
          "name": "stderr",
          "text": [
            "<ipython-input-32-a66ec229704a>:32: FutureWarning: The frame.append method is deprecated and will be removed from pandas in a future version. Use pandas.concat instead.\n",
            "  df = df.append(weekly_df)\n"
          ]
        },
        {
          "output_type": "stream",
          "name": "stdout",
          "text": [
            "file not found\n",
            "Calling for week 2012-07-29\n"
          ]
        },
        {
          "output_type": "stream",
          "name": "stderr",
          "text": [
            "<ipython-input-32-a66ec229704a>:32: FutureWarning: The frame.append method is deprecated and will be removed from pandas in a future version. Use pandas.concat instead.\n",
            "  df = df.append(weekly_df)\n"
          ]
        },
        {
          "output_type": "stream",
          "name": "stdout",
          "text": [
            "file not found\n",
            "Calling for week 2012-08-05\n"
          ]
        },
        {
          "output_type": "stream",
          "name": "stderr",
          "text": [
            "<ipython-input-32-a66ec229704a>:32: FutureWarning: The frame.append method is deprecated and will be removed from pandas in a future version. Use pandas.concat instead.\n",
            "  df = df.append(weekly_df)\n"
          ]
        },
        {
          "output_type": "stream",
          "name": "stdout",
          "text": [
            "file not found\n",
            "Calling for week 2012-08-12\n"
          ]
        },
        {
          "output_type": "stream",
          "name": "stderr",
          "text": [
            "<ipython-input-32-a66ec229704a>:32: FutureWarning: The frame.append method is deprecated and will be removed from pandas in a future version. Use pandas.concat instead.\n",
            "  df = df.append(weekly_df)\n"
          ]
        },
        {
          "output_type": "stream",
          "name": "stdout",
          "text": [
            "file not found\n",
            "Calling for week 2012-08-19\n"
          ]
        },
        {
          "output_type": "stream",
          "name": "stderr",
          "text": [
            "<ipython-input-32-a66ec229704a>:32: FutureWarning: The frame.append method is deprecated and will be removed from pandas in a future version. Use pandas.concat instead.\n",
            "  df = df.append(weekly_df)\n"
          ]
        },
        {
          "output_type": "stream",
          "name": "stdout",
          "text": [
            "file not found\n",
            "Calling for week 2012-08-26\n"
          ]
        },
        {
          "output_type": "stream",
          "name": "stderr",
          "text": [
            "<ipython-input-32-a66ec229704a>:32: FutureWarning: The frame.append method is deprecated and will be removed from pandas in a future version. Use pandas.concat instead.\n",
            "  df = df.append(weekly_df)\n"
          ]
        },
        {
          "output_type": "stream",
          "name": "stdout",
          "text": [
            "file not found\n",
            "Calling for week 2012-09-02\n"
          ]
        },
        {
          "output_type": "stream",
          "name": "stderr",
          "text": [
            "<ipython-input-32-a66ec229704a>:32: FutureWarning: The frame.append method is deprecated and will be removed from pandas in a future version. Use pandas.concat instead.\n",
            "  df = df.append(weekly_df)\n"
          ]
        },
        {
          "output_type": "stream",
          "name": "stdout",
          "text": [
            "file not found\n",
            "Calling for week 2012-09-09\n"
          ]
        },
        {
          "output_type": "stream",
          "name": "stderr",
          "text": [
            "<ipython-input-32-a66ec229704a>:32: FutureWarning: The frame.append method is deprecated and will be removed from pandas in a future version. Use pandas.concat instead.\n",
            "  df = df.append(weekly_df)\n"
          ]
        },
        {
          "output_type": "stream",
          "name": "stdout",
          "text": [
            "file not found\n",
            "Calling for week 2012-09-16\n"
          ]
        },
        {
          "output_type": "stream",
          "name": "stderr",
          "text": [
            "<ipython-input-32-a66ec229704a>:32: FutureWarning: The frame.append method is deprecated and will be removed from pandas in a future version. Use pandas.concat instead.\n",
            "  df = df.append(weekly_df)\n"
          ]
        },
        {
          "output_type": "stream",
          "name": "stdout",
          "text": [
            "file not found\n",
            "Calling for week 2012-09-23\n"
          ]
        },
        {
          "output_type": "stream",
          "name": "stderr",
          "text": [
            "<ipython-input-32-a66ec229704a>:32: FutureWarning: The frame.append method is deprecated and will be removed from pandas in a future version. Use pandas.concat instead.\n",
            "  df = df.append(weekly_df)\n"
          ]
        },
        {
          "output_type": "stream",
          "name": "stdout",
          "text": [
            "file not found\n",
            "Calling for week 2012-09-30\n"
          ]
        },
        {
          "output_type": "stream",
          "name": "stderr",
          "text": [
            "<ipython-input-32-a66ec229704a>:32: FutureWarning: The frame.append method is deprecated and will be removed from pandas in a future version. Use pandas.concat instead.\n",
            "  df = df.append(weekly_df)\n"
          ]
        },
        {
          "output_type": "stream",
          "name": "stdout",
          "text": [
            "file not found\n",
            "Calling for week 2012-10-07\n"
          ]
        },
        {
          "output_type": "stream",
          "name": "stderr",
          "text": [
            "<ipython-input-32-a66ec229704a>:32: FutureWarning: The frame.append method is deprecated and will be removed from pandas in a future version. Use pandas.concat instead.\n",
            "  df = df.append(weekly_df)\n"
          ]
        },
        {
          "output_type": "stream",
          "name": "stdout",
          "text": [
            "file not found\n",
            "Calling for week 2012-10-14\n"
          ]
        },
        {
          "output_type": "stream",
          "name": "stderr",
          "text": [
            "<ipython-input-32-a66ec229704a>:32: FutureWarning: The frame.append method is deprecated and will be removed from pandas in a future version. Use pandas.concat instead.\n",
            "  df = df.append(weekly_df)\n"
          ]
        },
        {
          "output_type": "stream",
          "name": "stdout",
          "text": [
            "file not found\n",
            "Calling for week 2012-10-21\n"
          ]
        },
        {
          "output_type": "stream",
          "name": "stderr",
          "text": [
            "<ipython-input-32-a66ec229704a>:32: FutureWarning: The frame.append method is deprecated and will be removed from pandas in a future version. Use pandas.concat instead.\n",
            "  df = df.append(weekly_df)\n"
          ]
        },
        {
          "output_type": "stream",
          "name": "stdout",
          "text": [
            "file not found\n",
            "Calling for week 2012-10-28\n"
          ]
        },
        {
          "output_type": "stream",
          "name": "stderr",
          "text": [
            "<ipython-input-32-a66ec229704a>:32: FutureWarning: The frame.append method is deprecated and will be removed from pandas in a future version. Use pandas.concat instead.\n",
            "  df = df.append(weekly_df)\n"
          ]
        },
        {
          "output_type": "stream",
          "name": "stdout",
          "text": [
            "file not found\n",
            "Calling for week 2012-11-04\n"
          ]
        },
        {
          "output_type": "stream",
          "name": "stderr",
          "text": [
            "<ipython-input-32-a66ec229704a>:32: FutureWarning: The frame.append method is deprecated and will be removed from pandas in a future version. Use pandas.concat instead.\n",
            "  df = df.append(weekly_df)\n"
          ]
        },
        {
          "output_type": "stream",
          "name": "stdout",
          "text": [
            "file not found\n",
            "Calling for week 2012-11-11\n"
          ]
        },
        {
          "output_type": "stream",
          "name": "stderr",
          "text": [
            "<ipython-input-32-a66ec229704a>:32: FutureWarning: The frame.append method is deprecated and will be removed from pandas in a future version. Use pandas.concat instead.\n",
            "  df = df.append(weekly_df)\n"
          ]
        },
        {
          "output_type": "stream",
          "name": "stdout",
          "text": [
            "file not found\n",
            "Calling for week 2012-11-18\n"
          ]
        },
        {
          "output_type": "stream",
          "name": "stderr",
          "text": [
            "<ipython-input-32-a66ec229704a>:32: FutureWarning: The frame.append method is deprecated and will be removed from pandas in a future version. Use pandas.concat instead.\n",
            "  df = df.append(weekly_df)\n"
          ]
        },
        {
          "output_type": "stream",
          "name": "stdout",
          "text": [
            "file not found\n",
            "Calling for week 2012-11-25\n"
          ]
        },
        {
          "output_type": "stream",
          "name": "stderr",
          "text": [
            "<ipython-input-32-a66ec229704a>:32: FutureWarning: The frame.append method is deprecated and will be removed from pandas in a future version. Use pandas.concat instead.\n",
            "  df = df.append(weekly_df)\n"
          ]
        },
        {
          "output_type": "stream",
          "name": "stdout",
          "text": [
            "file not found\n",
            "Calling for week 2012-12-02\n"
          ]
        },
        {
          "output_type": "stream",
          "name": "stderr",
          "text": [
            "<ipython-input-32-a66ec229704a>:32: FutureWarning: The frame.append method is deprecated and will be removed from pandas in a future version. Use pandas.concat instead.\n",
            "  df = df.append(weekly_df)\n"
          ]
        },
        {
          "output_type": "stream",
          "name": "stdout",
          "text": [
            "file not found\n",
            "Calling for week 2012-12-09\n"
          ]
        },
        {
          "output_type": "stream",
          "name": "stderr",
          "text": [
            "<ipython-input-32-a66ec229704a>:32: FutureWarning: The frame.append method is deprecated and will be removed from pandas in a future version. Use pandas.concat instead.\n",
            "  df = df.append(weekly_df)\n"
          ]
        },
        {
          "output_type": "stream",
          "name": "stdout",
          "text": [
            "file not found\n",
            "Calling for week 2012-12-16\n"
          ]
        },
        {
          "output_type": "stream",
          "name": "stderr",
          "text": [
            "<ipython-input-32-a66ec229704a>:32: FutureWarning: The frame.append method is deprecated and will be removed from pandas in a future version. Use pandas.concat instead.\n",
            "  df = df.append(weekly_df)\n"
          ]
        },
        {
          "output_type": "stream",
          "name": "stdout",
          "text": [
            "file not found\n",
            "Calling for week 2012-12-23\n"
          ]
        },
        {
          "output_type": "stream",
          "name": "stderr",
          "text": [
            "<ipython-input-32-a66ec229704a>:32: FutureWarning: The frame.append method is deprecated and will be removed from pandas in a future version. Use pandas.concat instead.\n",
            "  df = df.append(weekly_df)\n"
          ]
        },
        {
          "output_type": "stream",
          "name": "stdout",
          "text": [
            "file not found\n",
            "Calling for week 2012-12-30\n"
          ]
        },
        {
          "output_type": "stream",
          "name": "stderr",
          "text": [
            "<ipython-input-32-a66ec229704a>:32: FutureWarning: The frame.append method is deprecated and will be removed from pandas in a future version. Use pandas.concat instead.\n",
            "  df = df.append(weekly_df)\n"
          ]
        },
        {
          "output_type": "stream",
          "name": "stdout",
          "text": [
            "file not found\n",
            "{2012: {'2012-01-01': True, '2012-01-08': True, '2012-01-15': True, '2012-01-22': True, '2012-01-29': True, '2012-02-05': True, '2012-02-12': True, '2012-02-19': True, '2012-02-26': True, '2012-03-04': True, '2012-03-11': True, '2012-03-18': True, '2012-03-25': True, '2012-04-01': True, '2012-04-08': True, '2012-04-15': True, '2012-04-22': True, '2012-04-29': True, '2012-05-06': True, '2012-05-13': True, '2012-05-20': True, '2012-05-27': True, '2012-06-03': True, '2012-06-10': True, '2012-06-17': True, '2012-06-24': True, '2012-07-01': True, '2012-07-08': True, '2012-07-15': True, '2012-07-22': True, '2012-07-29': True, '2012-08-05': True, '2012-08-12': True, '2012-08-19': True, '2012-08-26': True, '2012-09-02': True, '2012-09-09': True, '2012-09-16': True, '2012-09-23': True, '2012-09-30': True, '2012-10-07': True, '2012-10-14': True, '2012-10-21': True, '2012-10-28': True, '2012-11-04': True, '2012-11-11': True, '2012-11-18': True, '2012-11-25': True, '2012-12-02': True, '2012-12-09': True, '2012-12-16': True, '2012-12-23': True, '2012-12-30': True}}\n"
          ]
        },
        {
          "output_type": "stream",
          "name": "stderr",
          "text": [
            "<ipython-input-32-a66ec229704a>:32: FutureWarning: The frame.append method is deprecated and will be removed from pandas in a future version. Use pandas.concat instead.\n",
            "  df = df.append(weekly_df)\n"
          ]
        }
      ],
      "source": [
        "hashmap = {}\n",
        "\n",
        "for i in range(START, END):\n",
        "    try:\n",
        "        (df, weekly) = load_by_year(i)\n",
        "        filename = 'best_seller' + str(i) + '.csv'\n",
        "        df.to_csv(filename, index = False)\n",
        "        df_authors = pd.DataFrame(list(df['author'].apply(author_split).explode()))\n",
        "        hashmap[i] = weekly\n",
        "    except:\n",
        "        print(\"General Error\")\n",
        "        hashmap[i] = None\n",
        "\n",
        "        \n",
        "print(hashmap)"
      ]
    },
    {
      "cell_type": "code",
      "execution_count": null,
      "id": "809c024e-2931-4d82-ba05-0f9afed7ebc3",
      "metadata": {
        "id": "809c024e-2931-4d82-ba05-0f9afed7ebc3"
      },
      "outputs": [],
      "source": []
    }
  ],
  "metadata": {
    "kernelspec": {
      "display_name": "Python 3 (ipykernel)",
      "language": "python",
      "name": "python3"
    },
    "language_info": {
      "codemirror_mode": {
        "name": "ipython",
        "version": 3
      },
      "file_extension": ".py",
      "mimetype": "text/x-python",
      "name": "python",
      "nbconvert_exporter": "python",
      "pygments_lexer": "ipython3",
      "version": "3.9.7"
    },
    "colab": {
      "provenance": []
    }
  },
  "nbformat": 4,
  "nbformat_minor": 5
}