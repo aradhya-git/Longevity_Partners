{
  "cells": [
    {
      "cell_type": "code",
      "execution_count": 1,
      "id": "23b8a401-2ef5-48b8-b36c-ba70d2ee804a",
      "metadata": {
        "id": "23b8a401-2ef5-48b8-b36c-ba70d2ee804a"
      },
      "outputs": [],
      "source": [
        "import pandas as pd\n",
        "import json\n",
        "import requests\n",
        "import time\n",
        "import os.path\n",
        "import re\n",
        "import warnings\n",
        "warnings.simplefilter('ignore')"
      ]
    },
    {
      "cell_type": "markdown",
      "source": [
        "The script runs for one year it takes nearly 2 hours to run for all the years because it can run at max 5 times in a minute and 500 times a day"
      ],
      "metadata": {
        "id": "3uXkcie0Ev9g"
      },
      "id": "3uXkcie0Ev9g"
    },
    {
      "cell_type": "code",
      "execution_count": 2,
      "id": "758343d3-5121-4126-8edc-bca53b3c3c1d",
      "metadata": {
        "id": "758343d3-5121-4126-8edc-bca53b3c3c1d"
      },
      "outputs": [],
      "source": [
        "API_KEY = 'byzMhmuNvsnu0eCJFjlK7VAefiG4oONB'\n",
        "START = 2012\n",
        "END = 2013 # add one year"
      ]
    },
    {
      "cell_type": "markdown",
      "source": [
        "Saving the JSON weekly to avoid making API calls again and again and csv file yearly."
      ],
      "metadata": {
        "id": "sx09xneH8SKm"
      },
      "id": "sx09xneH8SKm"
    },
    {
      "cell_type": "code",
      "execution_count": 3,
      "id": "6fdef8fd-f68f-4a76-8a6c-e11ec1b78eb1",
      "metadata": {
        "id": "6fdef8fd-f68f-4a76-8a6c-e11ec1b78eb1"
      },
      "outputs": [],
      "source": [
        "def load_by_week(week):\n",
        "    print('Calling for week ' + week)\n",
        "    rj = None\n",
        "    # /content/sample_data\n",
        "    path = '/content/data_'+week+'.json'\n",
        "    if os.path.isfile(path):\n",
        "        print('file is found')\n",
        "        rj = json.loads(open(path, 'r').read())\n",
        "    else:\n",
        "        resp  = requests.get('https://api.nytimes.com/svc/books/v3/lists/'+week+'/combined-print-and-e-book-nonfiction.json?api-key='+API_KEY)\n",
        "        rj = resp.json()\n",
        "        with open(path, 'w') as f:\n",
        "            json.dump(rj, f)\n",
        "        time.sleep(15)\n",
        "        print('file not found')\n",
        "    df = pd.DataFrame(rj['results']['books'])\n",
        "    df['published_date'] = rj['results']['published_date']\n",
        "    return df\n",
        "\n",
        "\n",
        "def load_by_year(year):\n",
        "    start = str(year) + '0101'    \n",
        "    end = str(year) + '1231'\n",
        "    date = pd.date_range(start,end, freq='W').strftime('%Y-%m-%d')\n",
        "\n",
        "    df = pd.DataFrame()\n",
        "    weekly = {}\n",
        "    for dt in date:\n",
        "        try:\n",
        "            weekly_df = load_by_week(dt)\n",
        "            weekly[dt] = True\n",
        "            df = df.append(weekly_df)\n",
        "        except Exception:\n",
        "            weekly[dt] = False\n",
        "            raise Exception(\"\")\n",
        "\n",
        "    return (df, weekly)\n"
      ]
    },
    {
      "cell_type": "code",
      "execution_count": 3,
      "id": "0b888843-8c10-4d57-967f-9740c68811d1",
      "metadata": {
        "id": "0b888843-8c10-4d57-967f-9740c68811d1"
      },
      "outputs": [],
      "source": []
    },
    {
      "cell_type": "code",
      "execution_count": 4,
      "id": "51539df0-7736-4375-89c8-be31ee9f3be7",
      "metadata": {
        "colab": {
          "base_uri": "https://localhost:8080/"
        },
        "id": "51539df0-7736-4375-89c8-be31ee9f3be7",
        "outputId": "45794cbe-1716-4cf1-94b9-20c6fa87f1fe"
      },
      "outputs": [
        {
          "output_type": "stream",
          "name": "stdout",
          "text": [
            "Calling for week 2012-01-01\n",
            "file not found\n",
            "Calling for week 2012-01-08\n",
            "file not found\n",
            "Calling for week 2012-01-15\n",
            "file not found\n",
            "Calling for week 2012-01-22\n",
            "file not found\n",
            "Calling for week 2012-01-29\n",
            "file not found\n",
            "Calling for week 2012-02-05\n",
            "file not found\n",
            "Calling for week 2012-02-12\n",
            "file not found\n",
            "Calling for week 2012-02-19\n",
            "file not found\n",
            "Calling for week 2012-02-26\n",
            "file not found\n",
            "Calling for week 2012-03-04\n",
            "file not found\n",
            "Calling for week 2012-03-11\n",
            "file not found\n",
            "Calling for week 2012-03-18\n",
            "file not found\n",
            "Calling for week 2012-03-25\n",
            "file not found\n",
            "Calling for week 2012-04-01\n",
            "file not found\n",
            "Calling for week 2012-04-08\n",
            "file not found\n",
            "Calling for week 2012-04-15\n",
            "file not found\n",
            "Calling for week 2012-04-22\n",
            "file not found\n",
            "Calling for week 2012-04-29\n",
            "file not found\n",
            "Calling for week 2012-05-06\n",
            "file not found\n",
            "Calling for week 2012-05-13\n",
            "file not found\n",
            "Calling for week 2012-05-20\n",
            "file not found\n",
            "Calling for week 2012-05-27\n",
            "file not found\n",
            "Calling for week 2012-06-03\n",
            "file not found\n",
            "Calling for week 2012-06-10\n",
            "file not found\n",
            "Calling for week 2012-06-17\n",
            "file not found\n",
            "Calling for week 2012-06-24\n",
            "file not found\n",
            "Calling for week 2012-07-01\n",
            "file not found\n",
            "Calling for week 2012-07-08\n",
            "file not found\n",
            "Calling for week 2012-07-15\n",
            "file not found\n",
            "Calling for week 2012-07-22\n",
            "file not found\n",
            "Calling for week 2012-07-29\n",
            "file not found\n",
            "Calling for week 2012-08-05\n",
            "file not found\n",
            "Calling for week 2012-08-12\n",
            "file not found\n",
            "Calling for week 2012-08-19\n",
            "file not found\n",
            "Calling for week 2012-08-26\n",
            "file not found\n",
            "Calling for week 2012-09-02\n",
            "file not found\n",
            "Calling for week 2012-09-09\n",
            "file not found\n",
            "Calling for week 2012-09-16\n",
            "file not found\n",
            "Calling for week 2012-09-23\n",
            "file not found\n",
            "Calling for week 2012-09-30\n",
            "file not found\n",
            "Calling for week 2012-10-07\n",
            "file not found\n",
            "Calling for week 2012-10-14\n",
            "file not found\n",
            "Calling for week 2012-10-21\n",
            "file not found\n",
            "Calling for week 2012-10-28\n",
            "file not found\n",
            "Calling for week 2012-11-04\n",
            "file not found\n",
            "Calling for week 2012-11-11\n",
            "file not found\n",
            "Calling for week 2012-11-18\n",
            "file not found\n",
            "Calling for week 2012-11-25\n",
            "file not found\n",
            "Calling for week 2012-12-02\n",
            "file not found\n",
            "Calling for week 2012-12-09\n",
            "file not found\n",
            "Calling for week 2012-12-16\n",
            "file not found\n",
            "Calling for week 2012-12-23\n",
            "file not found\n",
            "Calling for week 2012-12-30\n",
            "file not found\n",
            "General Error\n",
            "{2012: None}\n"
          ]
        }
      ],
      "source": [
        "hashmap = {}\n",
        "\n",
        "for i in range(START, END):\n",
        "    try:\n",
        "        (df, weekly) = load_by_year(i)\n",
        "        filename = 'best_seller' + str(i) + '.csv'\n",
        "        df.to_csv(filename, index = False)\n",
        "        df_authors = pd.DataFrame(list(df['author'].apply(author_split).explode()))\n",
        "        hashmap[i] = weekly\n",
        "    except:\n",
        "        print(\"General Error\")\n",
        "        hashmap[i] = None\n",
        "\n",
        "        \n",
        "print(hashmap)"
      ]
    },
    {
      "cell_type": "code",
      "execution_count": 4,
      "id": "809c024e-2931-4d82-ba05-0f9afed7ebc3",
      "metadata": {
        "id": "809c024e-2931-4d82-ba05-0f9afed7ebc3"
      },
      "outputs": [],
      "source": []
    }
  ],
  "metadata": {
    "kernelspec": {
      "display_name": "Python 3 (ipykernel)",
      "language": "python",
      "name": "python3"
    },
    "language_info": {
      "codemirror_mode": {
        "name": "ipython",
        "version": 3
      },
      "file_extension": ".py",
      "mimetype": "text/x-python",
      "name": "python",
      "nbconvert_exporter": "python",
      "pygments_lexer": "ipython3",
      "version": "3.9.7"
    },
    "colab": {
      "provenance": []
    }
  },
  "nbformat": 4,
  "nbformat_minor": 5
}